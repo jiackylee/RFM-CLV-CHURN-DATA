{
 "cells": [
  {
   "cell_type": "code",
   "execution_count": 1,
   "id": "0adadb1d",
   "metadata": {},
   "outputs": [],
   "source": [
    "import pandas as pd\n",
    "import numpy as np\n",
    "import seaborn as sns\n",
    "import matplotlib.pyplot as plt\n",
    "from matplotlib.pyplot import figure\n",
    "from lifetimes import BetaGeoFitter\n",
    "from lifetimes.utils import calibration_and_holdout_data\n",
    "from lifetimes.utils import summary_data_from_transaction_data\n",
    "from lifetimes.plotting import plot_frequency_recency_matrix\n",
    "from lifetimes.plotting import plot_probability_alive_matrix\n",
    "from lifetimes.plotting import plot_period_transactions\n",
    "from lifetimes.plotting import plot_history_alive\n",
    "from lifetimes.plotting import plot_calibration_purchases_vs_holdout_purchases\n",
    "import warnings\n",
    "\n",
    "warnings.filterwarnings('ignore')"
   ]
  },
  {
   "cell_type": "code",
   "execution_count": 2,
   "id": "b575e55c",
   "metadata": {},
   "outputs": [],
   "source": [
    "df = pd.read_csv('wx_user.csv')"
   ]
  },
  {
   "cell_type": "code",
   "execution_count": 3,
   "id": "4a8dbea6",
   "metadata": {},
   "outputs": [
    {
     "data": {
      "text/html": [
       "<div>\n",
       "<style scoped>\n",
       "    .dataframe tbody tr th:only-of-type {\n",
       "        vertical-align: middle;\n",
       "    }\n",
       "\n",
       "    .dataframe tbody tr th {\n",
       "        vertical-align: top;\n",
       "    }\n",
       "\n",
       "    .dataframe thead th {\n",
       "        text-align: right;\n",
       "    }\n",
       "</style>\n",
       "<table border=\"1\" class=\"dataframe\">\n",
       "  <thead>\n",
       "    <tr style=\"text-align: right;\">\n",
       "      <th></th>\n",
       "      <th>user_id</th>\n",
       "      <th>follow_time</th>\n",
       "      <th>auth_time</th>\n",
       "      <th>createtime</th>\n",
       "      <th>order_no</th>\n",
       "      <th>paid_cash</th>\n",
       "      <th>create_date</th>\n",
       "    </tr>\n",
       "  </thead>\n",
       "  <tbody>\n",
       "    <tr>\n",
       "      <th>0</th>\n",
       "      <td>2</td>\n",
       "      <td>2023/3/9 14:36:14</td>\n",
       "      <td>2014/8/3 22:39:25</td>\n",
       "      <td>2014/4/30 09:30:23</td>\n",
       "      <td>2.018123e+14</td>\n",
       "      <td>1.0</td>\n",
       "      <td>2018/12/29</td>\n",
       "    </tr>\n",
       "    <tr>\n",
       "      <th>1</th>\n",
       "      <td>2</td>\n",
       "      <td>2023/3/9 14:36:14</td>\n",
       "      <td>2014/8/3 22:39:25</td>\n",
       "      <td>2014/4/30 09:30:23</td>\n",
       "      <td>2.021012e+14</td>\n",
       "      <td>50.0</td>\n",
       "      <td>2021/1/15</td>\n",
       "    </tr>\n",
       "    <tr>\n",
       "      <th>2</th>\n",
       "      <td>2</td>\n",
       "      <td>2023/3/9 14:36:14</td>\n",
       "      <td>2014/8/3 22:39:25</td>\n",
       "      <td>2014/4/30 09:30:23</td>\n",
       "      <td>2.018110e+14</td>\n",
       "      <td>1.0</td>\n",
       "      <td>2018/11/2</td>\n",
       "    </tr>\n",
       "    <tr>\n",
       "      <th>3</th>\n",
       "      <td>2</td>\n",
       "      <td>2023/3/9 14:36:14</td>\n",
       "      <td>2014/8/3 22:39:25</td>\n",
       "      <td>2014/4/30 09:30:23</td>\n",
       "      <td>2.018122e+14</td>\n",
       "      <td>1.0</td>\n",
       "      <td>2018/12/23</td>\n",
       "    </tr>\n",
       "    <tr>\n",
       "      <th>4</th>\n",
       "      <td>2</td>\n",
       "      <td>2023/3/9 14:36:14</td>\n",
       "      <td>2014/8/3 22:39:25</td>\n",
       "      <td>2014/4/30 09:30:23</td>\n",
       "      <td>2.018121e+14</td>\n",
       "      <td>1.0</td>\n",
       "      <td>2018/12/7</td>\n",
       "    </tr>\n",
       "  </tbody>\n",
       "</table>\n",
       "</div>"
      ],
      "text/plain": [
       "   user_id        follow_time          auth_time          createtime  \\\n",
       "0        2  2023/3/9 14:36:14  2014/8/3 22:39:25  2014/4/30 09:30:23   \n",
       "1        2  2023/3/9 14:36:14  2014/8/3 22:39:25  2014/4/30 09:30:23   \n",
       "2        2  2023/3/9 14:36:14  2014/8/3 22:39:25  2014/4/30 09:30:23   \n",
       "3        2  2023/3/9 14:36:14  2014/8/3 22:39:25  2014/4/30 09:30:23   \n",
       "4        2  2023/3/9 14:36:14  2014/8/3 22:39:25  2014/4/30 09:30:23   \n",
       "\n",
       "       order_no  paid_cash create_date  \n",
       "0  2.018123e+14        1.0  2018/12/29  \n",
       "1  2.021012e+14       50.0   2021/1/15  \n",
       "2  2.018110e+14        1.0   2018/11/2  \n",
       "3  2.018122e+14        1.0  2018/12/23  \n",
       "4  2.018121e+14        1.0   2018/12/7  "
      ]
     },
     "execution_count": 3,
     "metadata": {},
     "output_type": "execute_result"
    }
   ],
   "source": [
    "df.head()"
   ]
  },
  {
   "cell_type": "code",
   "execution_count": 4,
   "id": "aba28cc0",
   "metadata": {},
   "outputs": [
    {
     "name": "stdout",
     "output_type": "stream",
     "text": [
      "<class 'pandas.core.frame.DataFrame'>\n",
      "RangeIndex: 738066 entries, 0 to 738065\n",
      "Data columns (total 7 columns):\n",
      " #   Column       Non-Null Count   Dtype  \n",
      "---  ------       --------------   -----  \n",
      " 0   user_id      738066 non-null  int64  \n",
      " 1   follow_time  738066 non-null  object \n",
      " 2   auth_time    730518 non-null  object \n",
      " 3   createtime   738066 non-null  object \n",
      " 4   order_no     700123 non-null  float64\n",
      " 5   paid_cash    700123 non-null  float64\n",
      " 6   create_date  700123 non-null  object \n",
      "dtypes: float64(2), int64(1), object(4)\n",
      "memory usage: 39.4+ MB\n"
     ]
    }
   ],
   "source": [
    "df.info()"
   ]
  },
  {
   "cell_type": "code",
   "execution_count": 5,
   "id": "03c84807",
   "metadata": {
    "scrolled": true
   },
   "outputs": [
    {
     "data": {
      "text/html": [
       "<div>\n",
       "<style scoped>\n",
       "    .dataframe tbody tr th:only-of-type {\n",
       "        vertical-align: middle;\n",
       "    }\n",
       "\n",
       "    .dataframe tbody tr th {\n",
       "        vertical-align: top;\n",
       "    }\n",
       "\n",
       "    .dataframe thead th {\n",
       "        text-align: right;\n",
       "    }\n",
       "</style>\n",
       "<table border=\"1\" class=\"dataframe\">\n",
       "  <thead>\n",
       "    <tr style=\"text-align: right;\">\n",
       "      <th></th>\n",
       "      <th>user_id</th>\n",
       "      <th>order_no</th>\n",
       "      <th>paid_cash</th>\n",
       "    </tr>\n",
       "  </thead>\n",
       "  <tbody>\n",
       "    <tr>\n",
       "      <th>count</th>\n",
       "      <td>700124.000000</td>\n",
       "      <td>7.001230e+05</td>\n",
       "      <td>700123.000000</td>\n",
       "    </tr>\n",
       "    <tr>\n",
       "      <th>mean</th>\n",
       "      <td>192485.010128</td>\n",
       "      <td>2.020049e+14</td>\n",
       "      <td>957.785317</td>\n",
       "    </tr>\n",
       "    <tr>\n",
       "      <th>std</th>\n",
       "      <td>186695.609254</td>\n",
       "      <td>1.762840e+11</td>\n",
       "      <td>3498.456584</td>\n",
       "    </tr>\n",
       "    <tr>\n",
       "      <th>min</th>\n",
       "      <td>2.000000</td>\n",
       "      <td>2.016052e+14</td>\n",
       "      <td>0.010000</td>\n",
       "    </tr>\n",
       "    <tr>\n",
       "      <th>25%</th>\n",
       "      <td>39286.000000</td>\n",
       "      <td>2.019023e+14</td>\n",
       "      <td>12.000000</td>\n",
       "    </tr>\n",
       "    <tr>\n",
       "      <th>50%</th>\n",
       "      <td>115615.000000</td>\n",
       "      <td>2.020111e+14</td>\n",
       "      <td>40.000000</td>\n",
       "    </tr>\n",
       "    <tr>\n",
       "      <th>75%</th>\n",
       "      <td>329243.000000</td>\n",
       "      <td>2.021102e+14</td>\n",
       "      <td>300.000000</td>\n",
       "    </tr>\n",
       "    <tr>\n",
       "      <th>max</th>\n",
       "      <td>761984.000000</td>\n",
       "      <td>2.023092e+14</td>\n",
       "      <td>460000.000000</td>\n",
       "    </tr>\n",
       "  </tbody>\n",
       "</table>\n",
       "</div>"
      ],
      "text/plain": [
       "             user_id      order_no      paid_cash\n",
       "count  700124.000000  7.001230e+05  700123.000000\n",
       "mean   192485.010128  2.020049e+14     957.785317\n",
       "std    186695.609254  1.762840e+11    3498.456584\n",
       "min         2.000000  2.016052e+14       0.010000\n",
       "25%     39286.000000  2.019023e+14      12.000000\n",
       "50%    115615.000000  2.020111e+14      40.000000\n",
       "75%    329243.000000  2.021102e+14     300.000000\n",
       "max    761984.000000  2.023092e+14  460000.000000"
      ]
     },
     "execution_count": 5,
     "metadata": {},
     "output_type": "execute_result"
    }
   ],
   "source": [
    "df.drop_duplicates(subset='order_no', inplace=True)\n",
    "df.describe()"
   ]
  },
  {
   "cell_type": "code",
   "execution_count": 6,
   "id": "4537dbe7",
   "metadata": {},
   "outputs": [
    {
     "data": {
      "text/plain": [
       "user_id          0\n",
       "follow_time      0\n",
       "auth_time      148\n",
       "createtime       0\n",
       "order_no         1\n",
       "paid_cash        1\n",
       "create_date      1\n",
       "dtype: int64"
      ]
     },
     "execution_count": 6,
     "metadata": {},
     "output_type": "execute_result"
    }
   ],
   "source": [
    "df.isna().sum()"
   ]
  },
  {
   "cell_type": "code",
   "execution_count": 7,
   "id": "9fe2897b",
   "metadata": {},
   "outputs": [
    {
     "name": "stdout",
     "output_type": "stream",
     "text": [
      "    auth_year  follow_year  user_id\n",
      "0      2014.0         2020       95\n",
      "1      2014.0         2021      259\n",
      "2      2014.0         2022      268\n",
      "3      2014.0         2023       69\n",
      "4      2015.0         2020      538\n",
      "5      2015.0         2021     1630\n",
      "6      2015.0         2022     1614\n",
      "7      2015.0         2023      397\n",
      "8      2016.0         2019        1\n",
      "9      2016.0         2020      676\n",
      "10     2016.0         2021     2305\n",
      "11     2016.0         2022     2495\n",
      "12     2016.0         2023      597\n",
      "13     2017.0         2019        1\n",
      "14     2017.0         2020      934\n",
      "15     2017.0         2021     3545\n",
      "16     2017.0         2022     3537\n",
      "17     2017.0         2023      909\n",
      "18     2018.0         2019        1\n",
      "19     2018.0         2020     1213\n",
      "20     2018.0         2021     5111\n",
      "21     2018.0         2022     4743\n",
      "22     2018.0         2023     1510\n",
      "23     2019.0         2019        1\n",
      "24     2019.0         2020     1210\n",
      "25     2019.0         2021     6613\n",
      "26     2019.0         2022     5994\n",
      "27     2019.0         2023     1792\n",
      "28     2020.0         2020      865\n",
      "29     2020.0         2021     5052\n",
      "30     2020.0         2022     4624\n",
      "31     2020.0         2023     1251\n",
      "32     2021.0         2020       25\n",
      "33     2021.0         2021     3821\n",
      "34     2021.0         2022     3651\n",
      "35     2021.0         2023     1135\n",
      "36     2022.0         2020       12\n",
      "37     2022.0         2021       53\n",
      "38     2022.0         2022     1997\n",
      "39     2022.0         2023     1140\n",
      "40     2023.0         2020        3\n",
      "41     2023.0         2021        7\n",
      "42     2023.0         2022       40\n",
      "43     2023.0         2023      917\n"
     ]
    }
   ],
   "source": [
    "# 按年聚合查看每年新增的好友数量及好友的注册年份分布\n",
    "# 将'follow_time' 'auth_time'和转变成 datetime\n",
    "df['auth_time']  = pd.to_datetime(df['auth_time'], format='%Y/%m/%d')\n",
    "df['follow_time'] = pd.to_datetime(df['follow_time'], format='%Y/%m/%d')\n",
    "\n",
    "#提取年份并创建新列\n",
    "df['auth_year'] = df['auth_time'].dt.year\n",
    "df['follow_year'] = df['follow_time'].dt.year\n",
    "\n",
    "# 按'follow_time' 和 'auth_time'列分组，并对user_id进行去重统计\n",
    "user_count_per_year = df.groupby(['auth_year', 'follow_year'])['user_id'].nunique().reset_index()\n",
    "\n",
    "print(user_count_per_year)"
   ]
  },
  {
   "cell_type": "code",
   "execution_count": 8,
   "id": "cce8e3f6",
   "metadata": {},
   "outputs": [
    {
     "name": "stdout",
     "output_type": "stream",
     "text": [
      "follow_year  2019  2020  2021  2022  2023\n",
      "auth_year                                \n",
      "2014.0          0    95   259   268    69\n",
      "2015.0          0   538  1630  1614   397\n",
      "2016.0          1   676  2305  2495   597\n",
      "2017.0          1   934  3545  3537   909\n",
      "2018.0          1  1213  5111  4743  1510\n",
      "2019.0          1  1210  6613  5994  1792\n",
      "2020.0          0   865  5052  4624  1251\n",
      "2021.0          0    25  3821  3651  1135\n",
      "2022.0          0    12    53  1997  1140\n",
      "2023.0          0     3     7    40   917\n"
     ]
    }
   ],
   "source": [
    "# 使用pivot_table 将数据转换为二维数组\n",
    "pivot_table = user_count_per_year.pivot(index='auth_year', columns='follow_year', values='user_id').fillna(0).astype(np.int64)\n",
    "\n",
    "print(pivot_table)"
   ]
  },
  {
   "cell_type": "code",
   "execution_count": 9,
   "id": "18a53798",
   "metadata": {},
   "outputs": [
    {
     "name": "stdout",
     "output_type": "stream",
     "text": [
      "create_year\n",
      "2016.0    3.598671e+06\n",
      "2017.0    2.194627e+07\n",
      "2018.0    4.104005e+07\n",
      "2019.0    1.559391e+08\n",
      "2020.0    1.540240e+08\n",
      "2021.0    1.496043e+08\n",
      "2022.0    9.640025e+07\n",
      "2023.0    4.801485e+07\n",
      "Name: paid_cash, dtype: float64\n"
     ]
    }
   ],
   "source": [
    "# 将建单时间转化为 datetime\n",
    "df['create_date'] = pd.to_datetime(df['create_date'], format='%Y/%m/%d')\n",
    "df['create_year'] = df['create_date'].dt.year\n",
    "\n",
    "# 按年聚合\n",
    "cash_per_create_year = df.groupby(['create_year'])['paid_cash'].sum()\n",
    "\n",
    "\n",
    "print(cash_per_create_year)"
   ]
  },
  {
   "cell_type": "code",
   "execution_count": 10,
   "id": "1c62a03f",
   "metadata": {},
   "outputs": [
    {
     "data": {
      "text/html": [
       "<div>\n",
       "<style scoped>\n",
       "    .dataframe tbody tr th:only-of-type {\n",
       "        vertical-align: middle;\n",
       "    }\n",
       "\n",
       "    .dataframe tbody tr th {\n",
       "        vertical-align: top;\n",
       "    }\n",
       "\n",
       "    .dataframe thead th {\n",
       "        text-align: right;\n",
       "    }\n",
       "</style>\n",
       "<table border=\"1\" class=\"dataframe\">\n",
       "  <thead>\n",
       "    <tr style=\"text-align: right;\">\n",
       "      <th></th>\n",
       "      <th>user_id</th>\n",
       "      <th>follow_time</th>\n",
       "      <th>auth_time</th>\n",
       "      <th>createtime</th>\n",
       "      <th>order_no</th>\n",
       "      <th>paid_cash</th>\n",
       "      <th>create_date</th>\n",
       "      <th>auth_year</th>\n",
       "      <th>follow_year</th>\n",
       "      <th>create_year</th>\n",
       "      <th>action_month</th>\n",
       "      <th>watch_minute</th>\n",
       "      <th>course</th>\n",
       "      <th>broadcast</th>\n",
       "      <th>playback</th>\n",
       "    </tr>\n",
       "  </thead>\n",
       "  <tbody>\n",
       "    <tr>\n",
       "      <th>0</th>\n",
       "      <td>2</td>\n",
       "      <td>2023-03-09 14:36:14</td>\n",
       "      <td>2014-08-03 22:39:25</td>\n",
       "      <td>2014/4/30 09:30:23</td>\n",
       "      <td>2.018123e+14</td>\n",
       "      <td>1.0</td>\n",
       "      <td>2018-12-29</td>\n",
       "      <td>2014.0</td>\n",
       "      <td>2023</td>\n",
       "      <td>2018.0</td>\n",
       "      <td>2021-01</td>\n",
       "      <td>15.17</td>\n",
       "      <td>0</td>\n",
       "      <td>14.17</td>\n",
       "      <td>1</td>\n",
       "    </tr>\n",
       "    <tr>\n",
       "      <th>1</th>\n",
       "      <td>2</td>\n",
       "      <td>2023-03-09 14:36:14</td>\n",
       "      <td>2014-08-03 22:39:25</td>\n",
       "      <td>2014/4/30 09:30:23</td>\n",
       "      <td>2.018123e+14</td>\n",
       "      <td>1.0</td>\n",
       "      <td>2018-12-29</td>\n",
       "      <td>2014.0</td>\n",
       "      <td>2023</td>\n",
       "      <td>2018.0</td>\n",
       "      <td>2021-02</td>\n",
       "      <td>11.13</td>\n",
       "      <td>0</td>\n",
       "      <td>11.13</td>\n",
       "      <td>0</td>\n",
       "    </tr>\n",
       "    <tr>\n",
       "      <th>2</th>\n",
       "      <td>2</td>\n",
       "      <td>2023-03-09 14:36:14</td>\n",
       "      <td>2014-08-03 22:39:25</td>\n",
       "      <td>2014/4/30 09:30:23</td>\n",
       "      <td>2.018123e+14</td>\n",
       "      <td>1.0</td>\n",
       "      <td>2018-12-29</td>\n",
       "      <td>2014.0</td>\n",
       "      <td>2023</td>\n",
       "      <td>2018.0</td>\n",
       "      <td>2021-03</td>\n",
       "      <td>20.00</td>\n",
       "      <td>0</td>\n",
       "      <td>20.00</td>\n",
       "      <td>0</td>\n",
       "    </tr>\n",
       "    <tr>\n",
       "      <th>3</th>\n",
       "      <td>2</td>\n",
       "      <td>2023-03-09 14:36:14</td>\n",
       "      <td>2014-08-03 22:39:25</td>\n",
       "      <td>2014/4/30 09:30:23</td>\n",
       "      <td>2.018123e+14</td>\n",
       "      <td>1.0</td>\n",
       "      <td>2018-12-29</td>\n",
       "      <td>2014.0</td>\n",
       "      <td>2023</td>\n",
       "      <td>2018.0</td>\n",
       "      <td>2021-04</td>\n",
       "      <td>96.28</td>\n",
       "      <td>1</td>\n",
       "      <td>95.28</td>\n",
       "      <td>0</td>\n",
       "    </tr>\n",
       "    <tr>\n",
       "      <th>4</th>\n",
       "      <td>2</td>\n",
       "      <td>2023-03-09 14:36:14</td>\n",
       "      <td>2014-08-03 22:39:25</td>\n",
       "      <td>2014/4/30 09:30:23</td>\n",
       "      <td>2.018123e+14</td>\n",
       "      <td>1.0</td>\n",
       "      <td>2018-12-29</td>\n",
       "      <td>2014.0</td>\n",
       "      <td>2023</td>\n",
       "      <td>2018.0</td>\n",
       "      <td>2021-05</td>\n",
       "      <td>1.00</td>\n",
       "      <td>0</td>\n",
       "      <td>0.00</td>\n",
       "      <td>1</td>\n",
       "    </tr>\n",
       "  </tbody>\n",
       "</table>\n",
       "</div>"
      ],
      "text/plain": [
       "   user_id         follow_time           auth_time          createtime  \\\n",
       "0        2 2023-03-09 14:36:14 2014-08-03 22:39:25  2014/4/30 09:30:23   \n",
       "1        2 2023-03-09 14:36:14 2014-08-03 22:39:25  2014/4/30 09:30:23   \n",
       "2        2 2023-03-09 14:36:14 2014-08-03 22:39:25  2014/4/30 09:30:23   \n",
       "3        2 2023-03-09 14:36:14 2014-08-03 22:39:25  2014/4/30 09:30:23   \n",
       "4        2 2023-03-09 14:36:14 2014-08-03 22:39:25  2014/4/30 09:30:23   \n",
       "\n",
       "       order_no  paid_cash create_date  auth_year  follow_year  create_year  \\\n",
       "0  2.018123e+14        1.0  2018-12-29     2014.0         2023       2018.0   \n",
       "1  2.018123e+14        1.0  2018-12-29     2014.0         2023       2018.0   \n",
       "2  2.018123e+14        1.0  2018-12-29     2014.0         2023       2018.0   \n",
       "3  2.018123e+14        1.0  2018-12-29     2014.0         2023       2018.0   \n",
       "4  2.018123e+14        1.0  2018-12-29     2014.0         2023       2018.0   \n",
       "\n",
       "  action_month  watch_minute  course  broadcast  playback  \n",
       "0      2021-01         15.17       0      14.17         1  \n",
       "1      2021-02         11.13       0      11.13         0  \n",
       "2      2021-03         20.00       0      20.00         0  \n",
       "3      2021-04         96.28       1      95.28         0  \n",
       "4      2021-05          1.00       0       0.00         1  "
      ]
     },
     "execution_count": 10,
     "metadata": {},
     "output_type": "execute_result"
    }
   ],
   "source": [
    "#合并学习用户数据\n",
    "#读取学习用户数据\n",
    "df_study = pd.read_csv('customer_learning.csv')\n",
    "#通过user_id进行合并\n",
    "merged_dataframe = pd.merge(df, df_study, on='user_id', how='inner')\n",
    "merged_dataframe.head()"
   ]
  },
  {
   "cell_type": "code",
   "execution_count": 11,
   "id": "955d36f2",
   "metadata": {},
   "outputs": [],
   "source": [
    "# 删除重复的订单数据\n",
    "merged_dataframe.drop_duplicates(subset='order_no', inplace=True)"
   ]
  },
  {
   "cell_type": "code",
   "execution_count": 12,
   "id": "a5d1a24c",
   "metadata": {},
   "outputs": [
    {
     "data": {
      "text/plain": [
       "64588"
      ]
     },
     "execution_count": 12,
     "metadata": {},
     "output_type": "execute_result"
    }
   ],
   "source": [
    "merged_dataframe['user_id'].nunique() "
   ]
  },
  {
   "cell_type": "code",
   "execution_count": 13,
   "id": "dd4884f9",
   "metadata": {},
   "outputs": [
    {
     "data": {
      "text/html": [
       "<div>\n",
       "<style scoped>\n",
       "    .dataframe tbody tr th:only-of-type {\n",
       "        vertical-align: middle;\n",
       "    }\n",
       "\n",
       "    .dataframe tbody tr th {\n",
       "        vertical-align: top;\n",
       "    }\n",
       "\n",
       "    .dataframe thead th {\n",
       "        text-align: right;\n",
       "    }\n",
       "</style>\n",
       "<table border=\"1\" class=\"dataframe\">\n",
       "  <thead>\n",
       "    <tr style=\"text-align: right;\">\n",
       "      <th></th>\n",
       "      <th>user_id</th>\n",
       "      <th>follow_time</th>\n",
       "      <th>auth_time</th>\n",
       "      <th>createtime</th>\n",
       "      <th>order_no</th>\n",
       "      <th>paid_cash</th>\n",
       "      <th>create_date</th>\n",
       "      <th>auth_year</th>\n",
       "      <th>follow_year</th>\n",
       "      <th>create_year</th>\n",
       "      <th>action_month</th>\n",
       "      <th>watch_minute</th>\n",
       "      <th>course</th>\n",
       "      <th>broadcast</th>\n",
       "      <th>playback</th>\n",
       "    </tr>\n",
       "  </thead>\n",
       "  <tbody>\n",
       "    <tr>\n",
       "      <th>0</th>\n",
       "      <td>2</td>\n",
       "      <td>2023-03-09 14:36:14</td>\n",
       "      <td>2014-08-03 22:39:25</td>\n",
       "      <td>2014/4/30 09:30:23</td>\n",
       "      <td>2.018123e+14</td>\n",
       "      <td>1.0</td>\n",
       "      <td>2018-12-29</td>\n",
       "      <td>2014.0</td>\n",
       "      <td>2023</td>\n",
       "      <td>2018.0</td>\n",
       "      <td>2021-01</td>\n",
       "      <td>15.17</td>\n",
       "      <td>0</td>\n",
       "      <td>14.17</td>\n",
       "      <td>1</td>\n",
       "    </tr>\n",
       "    <tr>\n",
       "      <th>32</th>\n",
       "      <td>2</td>\n",
       "      <td>2023-03-09 14:36:14</td>\n",
       "      <td>2014-08-03 22:39:25</td>\n",
       "      <td>2014/4/30 09:30:23</td>\n",
       "      <td>2.021012e+14</td>\n",
       "      <td>50.0</td>\n",
       "      <td>2021-01-15</td>\n",
       "      <td>2014.0</td>\n",
       "      <td>2023</td>\n",
       "      <td>2021.0</td>\n",
       "      <td>2021-01</td>\n",
       "      <td>15.17</td>\n",
       "      <td>0</td>\n",
       "      <td>14.17</td>\n",
       "      <td>1</td>\n",
       "    </tr>\n",
       "    <tr>\n",
       "      <th>64</th>\n",
       "      <td>2</td>\n",
       "      <td>2023-03-09 14:36:14</td>\n",
       "      <td>2014-08-03 22:39:25</td>\n",
       "      <td>2014/4/30 09:30:23</td>\n",
       "      <td>2.018110e+14</td>\n",
       "      <td>1.0</td>\n",
       "      <td>2018-11-02</td>\n",
       "      <td>2014.0</td>\n",
       "      <td>2023</td>\n",
       "      <td>2018.0</td>\n",
       "      <td>2021-01</td>\n",
       "      <td>15.17</td>\n",
       "      <td>0</td>\n",
       "      <td>14.17</td>\n",
       "      <td>1</td>\n",
       "    </tr>\n",
       "    <tr>\n",
       "      <th>96</th>\n",
       "      <td>2</td>\n",
       "      <td>2023-03-09 14:36:14</td>\n",
       "      <td>2014-08-03 22:39:25</td>\n",
       "      <td>2014/4/30 09:30:23</td>\n",
       "      <td>2.018122e+14</td>\n",
       "      <td>1.0</td>\n",
       "      <td>2018-12-23</td>\n",
       "      <td>2014.0</td>\n",
       "      <td>2023</td>\n",
       "      <td>2018.0</td>\n",
       "      <td>2021-01</td>\n",
       "      <td>15.17</td>\n",
       "      <td>0</td>\n",
       "      <td>14.17</td>\n",
       "      <td>1</td>\n",
       "    </tr>\n",
       "    <tr>\n",
       "      <th>128</th>\n",
       "      <td>2</td>\n",
       "      <td>2023-03-09 14:36:14</td>\n",
       "      <td>2014-08-03 22:39:25</td>\n",
       "      <td>2014/4/30 09:30:23</td>\n",
       "      <td>2.018121e+14</td>\n",
       "      <td>1.0</td>\n",
       "      <td>2018-12-07</td>\n",
       "      <td>2014.0</td>\n",
       "      <td>2023</td>\n",
       "      <td>2018.0</td>\n",
       "      <td>2021-01</td>\n",
       "      <td>15.17</td>\n",
       "      <td>0</td>\n",
       "      <td>14.17</td>\n",
       "      <td>1</td>\n",
       "    </tr>\n",
       "  </tbody>\n",
       "</table>\n",
       "</div>"
      ],
      "text/plain": [
       "     user_id         follow_time           auth_time          createtime  \\\n",
       "0          2 2023-03-09 14:36:14 2014-08-03 22:39:25  2014/4/30 09:30:23   \n",
       "32         2 2023-03-09 14:36:14 2014-08-03 22:39:25  2014/4/30 09:30:23   \n",
       "64         2 2023-03-09 14:36:14 2014-08-03 22:39:25  2014/4/30 09:30:23   \n",
       "96         2 2023-03-09 14:36:14 2014-08-03 22:39:25  2014/4/30 09:30:23   \n",
       "128        2 2023-03-09 14:36:14 2014-08-03 22:39:25  2014/4/30 09:30:23   \n",
       "\n",
       "         order_no  paid_cash create_date  auth_year  follow_year  create_year  \\\n",
       "0    2.018123e+14        1.0  2018-12-29     2014.0         2023       2018.0   \n",
       "32   2.021012e+14       50.0  2021-01-15     2014.0         2023       2021.0   \n",
       "64   2.018110e+14        1.0  2018-11-02     2014.0         2023       2018.0   \n",
       "96   2.018122e+14        1.0  2018-12-23     2014.0         2023       2018.0   \n",
       "128  2.018121e+14        1.0  2018-12-07     2014.0         2023       2018.0   \n",
       "\n",
       "    action_month  watch_minute  course  broadcast  playback  \n",
       "0        2021-01         15.17       0      14.17         1  \n",
       "32       2021-01         15.17       0      14.17         1  \n",
       "64       2021-01         15.17       0      14.17         1  \n",
       "96       2021-01         15.17       0      14.17         1  \n",
       "128      2021-01         15.17       0      14.17         1  "
      ]
     },
     "execution_count": 13,
     "metadata": {},
     "output_type": "execute_result"
    }
   ],
   "source": [
    "merged_dataframe.head()"
   ]
  },
  {
   "cell_type": "code",
   "execution_count": 14,
   "id": "b2075401",
   "metadata": {},
   "outputs": [
    {
     "data": {
      "text/plain": [
       "20500"
      ]
     },
     "execution_count": 14,
     "metadata": {},
     "output_type": "execute_result"
    }
   ],
   "source": [
    "#筛选30分+用户作为统计对象\n",
    "#筛选99+订单作为金额及消费频次统计对象\n",
    "merged_dataframe = merged_dataframe[(merged_dataframe['watch_minute'] >= 30) & (merged_dataframe['paid_cash'] >= 99)]\n",
    "merged_dataframe['user_id'].nunique()"
   ]
  },
  {
   "cell_type": "code",
   "execution_count": 15,
   "id": "26ca9aa2",
   "metadata": {},
   "outputs": [
    {
     "data": {
      "text/html": [
       "<div>\n",
       "<style scoped>\n",
       "    .dataframe tbody tr th:only-of-type {\n",
       "        vertical-align: middle;\n",
       "    }\n",
       "\n",
       "    .dataframe tbody tr th {\n",
       "        vertical-align: top;\n",
       "    }\n",
       "\n",
       "    .dataframe thead th {\n",
       "        text-align: right;\n",
       "    }\n",
       "</style>\n",
       "<table border=\"1\" class=\"dataframe\">\n",
       "  <thead>\n",
       "    <tr style=\"text-align: right;\">\n",
       "      <th></th>\n",
       "      <th>frequency</th>\n",
       "      <th>recency</th>\n",
       "      <th>T</th>\n",
       "      <th>monetary_value</th>\n",
       "    </tr>\n",
       "    <tr>\n",
       "      <th>user_id</th>\n",
       "      <th></th>\n",
       "      <th></th>\n",
       "      <th></th>\n",
       "      <th></th>\n",
       "    </tr>\n",
       "  </thead>\n",
       "  <tbody>\n",
       "    <tr>\n",
       "      <th>67</th>\n",
       "      <td>1.0</td>\n",
       "      <td>48.0</td>\n",
       "      <td>1807.0</td>\n",
       "      <td>300.000000</td>\n",
       "    </tr>\n",
       "    <tr>\n",
       "      <th>83</th>\n",
       "      <td>2.0</td>\n",
       "      <td>2190.0</td>\n",
       "      <td>2350.0</td>\n",
       "      <td>399.500000</td>\n",
       "    </tr>\n",
       "    <tr>\n",
       "      <th>112</th>\n",
       "      <td>3.0</td>\n",
       "      <td>2195.0</td>\n",
       "      <td>2408.0</td>\n",
       "      <td>233.000000</td>\n",
       "    </tr>\n",
       "    <tr>\n",
       "      <th>119</th>\n",
       "      <td>9.0</td>\n",
       "      <td>2134.0</td>\n",
       "      <td>2413.0</td>\n",
       "      <td>12108.222222</td>\n",
       "    </tr>\n",
       "    <tr>\n",
       "      <th>123</th>\n",
       "      <td>5.0</td>\n",
       "      <td>2212.0</td>\n",
       "      <td>2356.0</td>\n",
       "      <td>227.540000</td>\n",
       "    </tr>\n",
       "  </tbody>\n",
       "</table>\n",
       "</div>"
      ],
      "text/plain": [
       "         frequency  recency       T  monetary_value\n",
       "user_id                                            \n",
       "67             1.0     48.0  1807.0      300.000000\n",
       "83             2.0   2190.0  2350.0      399.500000\n",
       "112            3.0   2195.0  2408.0      233.000000\n",
       "119            9.0   2134.0  2413.0    12108.222222\n",
       "123            5.0   2212.0  2356.0      227.540000"
      ]
     },
     "execution_count": 15,
     "metadata": {},
     "output_type": "execute_result"
    }
   ],
   "source": [
    "df_rfmt = summary_data_from_transaction_data(merged_dataframe,\n",
    "                                             'user_id',\n",
    "                                             'create_date',\n",
    "                                             'paid_cash',\n",
    "                                             observation_period_end='2023-10-1')\n",
    "\n",
    "df_rfmt.head()"
   ]
  },
  {
   "cell_type": "code",
   "execution_count": 16,
   "id": "ba7b42d9",
   "metadata": {},
   "outputs": [
    {
     "data": {
      "image/png": "[encoded data removed]",
      "text/plain": [
       "<Figure size 500x500 with 1 Axes>"
      ]
     },
     "metadata": {},
     "output_type": "display_data"
    }
   ],
   "source": [
    "ax = sns.displot(df_rfmt['recency'])"
   ]
  },
  {
   "cell_type": "code",
   "execution_count": 17,
   "id": "4bed9f12",
   "metadata": {
    "scrolled": false
   },
   "outputs": [
    {
     "data": {
      "image/png": "[encoded data removed]",
      "text/plain": [
       "<Figure size 500x500 with 1 Axes>"
      ]
     },
     "metadata": {},
     "output_type": "display_data"
    }
   ],
   "source": [
    "ax = sns.displot(df_rfmt['frequency'])\n",
    "plt.show()"
   ]
  },
  {
   "cell_type": "code",
   "execution_count": 18,
   "id": "0aba32d1",
   "metadata": {},
   "outputs": [
    {
     "data": {
      "image/png": "[encoded data removed]",
      "text/plain": [
       "<Figure size 640x480 with 1 Axes>"
      ]
     },
     "metadata": {},
     "output_type": "display_data"
    }
   ],
   "source": [
    "ax = sns.distplot(df_rfmt['monetary_value'])\n",
    "plt.show()"
   ]
  },
  {
   "cell_type": "code",
   "execution_count": 19,
   "id": "26578a3b",
   "metadata": {},
   "outputs": [
    {
     "data": {
      "image/png": "[encoded data removed]",
      "text/plain": [
       "<Figure size 640x480 with 1 Axes>"
      ]
     },
     "metadata": {},
     "output_type": "display_data"
    }
   ],
   "source": [
    "ax = sns.distplot(df_rfmt['T'])\n",
    "plt.show()"
   ]
  },
  {
   "cell_type": "code",
   "execution_count": 20,
   "id": "e6dc95d4",
   "metadata": {},
   "outputs": [
    {
     "data": {
      "text/html": [
       "<div>\n",
       "<style scoped>\n",
       "    .dataframe tbody tr th:only-of-type {\n",
       "        vertical-align: middle;\n",
       "    }\n",
       "\n",
       "    .dataframe tbody tr th {\n",
       "        vertical-align: top;\n",
       "    }\n",
       "\n",
       "    .dataframe thead th {\n",
       "        text-align: right;\n",
       "    }\n",
       "</style>\n",
       "<table border=\"1\" class=\"dataframe\">\n",
       "  <thead>\n",
       "    <tr style=\"text-align: right;\">\n",
       "      <th></th>\n",
       "      <th>coef</th>\n",
       "      <th>se(coef)</th>\n",
       "      <th>lower 95% bound</th>\n",
       "      <th>upper 95% bound</th>\n",
       "    </tr>\n",
       "  </thead>\n",
       "  <tbody>\n",
       "    <tr>\n",
       "      <th>r</th>\n",
       "      <td>1.236614</td>\n",
       "      <td>0.018265</td>\n",
       "      <td>1.200816</td>\n",
       "      <td>1.272413</td>\n",
       "    </tr>\n",
       "    <tr>\n",
       "      <th>alpha</th>\n",
       "      <td>368.208769</td>\n",
       "      <td>6.858694</td>\n",
       "      <td>354.765729</td>\n",
       "      <td>381.651809</td>\n",
       "    </tr>\n",
       "    <tr>\n",
       "      <th>a</th>\n",
       "      <td>0.118671</td>\n",
       "      <td>0.004855</td>\n",
       "      <td>0.109155</td>\n",
       "      <td>0.128187</td>\n",
       "    </tr>\n",
       "    <tr>\n",
       "      <th>b</th>\n",
       "      <td>0.959252</td>\n",
       "      <td>0.032138</td>\n",
       "      <td>0.896261</td>\n",
       "      <td>1.022243</td>\n",
       "    </tr>\n",
       "  </tbody>\n",
       "</table>\n",
       "</div>"
      ],
      "text/plain": [
       "             coef  se(coef)  lower 95% bound  upper 95% bound\n",
       "r        1.236614  0.018265         1.200816         1.272413\n",
       "alpha  368.208769  6.858694       354.765729       381.651809\n",
       "a        0.118671  0.004855         0.109155         0.128187\n",
       "b        0.959252  0.032138         0.896261         1.022243"
      ]
     },
     "execution_count": 20,
     "metadata": {},
     "output_type": "execute_result"
    }
   ],
   "source": [
    "bgf = BetaGeoFitter(penalizer_coef=0.01)\n",
    "bgf.fit(df_rfmt['frequency'], df_rfmt['recency'], df_rfmt['T'])\n",
    "bgf.summary"
   ]
  },
  {
   "cell_type": "code",
   "execution_count": 22,
   "id": "f986752f",
   "metadata": {
    "scrolled": false
   },
   "outputs": [
    {
     "data": {
      "text/plain": [
       "<Figure size 1200x1200 with 0 Axes>"
      ]
     },
     "metadata": {},
     "output_type": "display_data"
    },
    {
     "data": {
      "image/png": "[encoded data removed]",
      "text/plain": [
       "<Figure size 1200x1200 with 2 Axes>"
      ]
     },
     "metadata": {},
     "output_type": "display_data"
    }
   ],
   "source": [
    "figure(num=None, figsize=(10, 10), dpi=120, facecolor='w', edgecolor='k' )\n",
    "plot_frequency_recency_matrix(bgf)\n",
    "plt.show()"
   ]
  },
  {
   "cell_type": "code",
   "execution_count": 23,
   "id": "88ae5a1d",
   "metadata": {},
   "outputs": [
    {
     "data": {
      "image/png": "[encoded data removed]",
      "text/plain": [
       "<Figure size 1200x1200 with 2 Axes>"
      ]
     },
     "metadata": {},
     "output_type": "display_data"
    }
   ],
   "source": [
    "figure(num=None, figsize=(10, 10), dpi=120, facecolor='w', edgecolor='k' )\n",
    "plot_probability_alive_matrix(bgf)\n",
    "plt.show()"
   ]
  },
  {
   "cell_type": "code",
   "execution_count": 24,
   "id": "4c12fcc8",
   "metadata": {},
   "outputs": [
    {
     "data": {
      "text/html": [
       "<div>\n",
       "<style scoped>\n",
       "    .dataframe tbody tr th:only-of-type {\n",
       "        vertical-align: middle;\n",
       "    }\n",
       "\n",
       "    .dataframe tbody tr th {\n",
       "        vertical-align: top;\n",
       "    }\n",
       "\n",
       "    .dataframe thead th {\n",
       "        text-align: right;\n",
       "    }\n",
       "</style>\n",
       "<table border=\"1\" class=\"dataframe\">\n",
       "  <thead>\n",
       "    <tr style=\"text-align: right;\">\n",
       "      <th></th>\n",
       "      <th>frequency</th>\n",
       "      <th>recency</th>\n",
       "      <th>T</th>\n",
       "      <th>monetary_value</th>\n",
       "      <th>predicted_purchases</th>\n",
       "    </tr>\n",
       "    <tr>\n",
       "      <th>user_id</th>\n",
       "      <th></th>\n",
       "      <th></th>\n",
       "      <th></th>\n",
       "      <th></th>\n",
       "      <th></th>\n",
       "    </tr>\n",
       "  </thead>\n",
       "  <tbody>\n",
       "    <tr>\n",
       "      <th>67</th>\n",
       "      <td>1.0</td>\n",
       "      <td>48.0</td>\n",
       "      <td>1807.0</td>\n",
       "      <td>300.000000</td>\n",
       "      <td>0.030635</td>\n",
       "    </tr>\n",
       "    <tr>\n",
       "      <th>83</th>\n",
       "      <td>2.0</td>\n",
       "      <td>2190.0</td>\n",
       "      <td>2350.0</td>\n",
       "      <td>399.500000</td>\n",
       "      <td>0.198568</td>\n",
       "    </tr>\n",
       "    <tr>\n",
       "      <th>112</th>\n",
       "      <td>3.0</td>\n",
       "      <td>2195.0</td>\n",
       "      <td>2408.0</td>\n",
       "      <td>233.000000</td>\n",
       "      <td>0.258814</td>\n",
       "    </tr>\n",
       "    <tr>\n",
       "      <th>119</th>\n",
       "      <td>9.0</td>\n",
       "      <td>2134.0</td>\n",
       "      <td>2413.0</td>\n",
       "      <td>12108.222222</td>\n",
       "      <td>0.634933</td>\n",
       "    </tr>\n",
       "    <tr>\n",
       "      <th>123</th>\n",
       "      <td>5.0</td>\n",
       "      <td>2212.0</td>\n",
       "      <td>2356.0</td>\n",
       "      <td>227.540000</td>\n",
       "      <td>0.396883</td>\n",
       "    </tr>\n",
       "    <tr>\n",
       "      <th>...</th>\n",
       "      <td>...</td>\n",
       "      <td>...</td>\n",
       "      <td>...</td>\n",
       "      <td>...</td>\n",
       "      <td>...</td>\n",
       "    </tr>\n",
       "    <tr>\n",
       "      <th>759699</th>\n",
       "      <td>2.0</td>\n",
       "      <td>11.0</td>\n",
       "      <td>34.0</td>\n",
       "      <td>8630.000000</td>\n",
       "      <td>1.308494</td>\n",
       "    </tr>\n",
       "    <tr>\n",
       "      <th>760350</th>\n",
       "      <td>2.0</td>\n",
       "      <td>14.0</td>\n",
       "      <td>30.0</td>\n",
       "      <td>800.000000</td>\n",
       "      <td>1.326378</td>\n",
       "    </tr>\n",
       "    <tr>\n",
       "      <th>760404</th>\n",
       "      <td>1.0</td>\n",
       "      <td>18.0</td>\n",
       "      <td>30.0</td>\n",
       "      <td>25600.000000</td>\n",
       "      <td>0.862110</td>\n",
       "    </tr>\n",
       "    <tr>\n",
       "      <th>760815</th>\n",
       "      <td>1.0</td>\n",
       "      <td>6.0</td>\n",
       "      <td>26.0</td>\n",
       "      <td>26600.000000</td>\n",
       "      <td>0.865617</td>\n",
       "    </tr>\n",
       "    <tr>\n",
       "      <th>760849</th>\n",
       "      <td>1.0</td>\n",
       "      <td>6.0</td>\n",
       "      <td>23.0</td>\n",
       "      <td>27600.000000</td>\n",
       "      <td>0.873862</td>\n",
       "    </tr>\n",
       "  </tbody>\n",
       "</table>\n",
       "<p>20500 rows × 5 columns</p>\n",
       "</div>"
      ],
      "text/plain": [
       "         frequency  recency       T  monetary_value  predicted_purchases\n",
       "user_id                                                                 \n",
       "67             1.0     48.0  1807.0      300.000000             0.030635\n",
       "83             2.0   2190.0  2350.0      399.500000             0.198568\n",
       "112            3.0   2195.0  2408.0      233.000000             0.258814\n",
       "119            9.0   2134.0  2413.0    12108.222222             0.634933\n",
       "123            5.0   2212.0  2356.0      227.540000             0.396883\n",
       "...            ...      ...     ...             ...                  ...\n",
       "759699         2.0     11.0    34.0     8630.000000             1.308494\n",
       "760350         2.0     14.0    30.0      800.000000             1.326378\n",
       "760404         1.0     18.0    30.0    25600.000000             0.862110\n",
       "760815         1.0      6.0    26.0    26600.000000             0.865617\n",
       "760849         1.0      6.0    23.0    27600.000000             0.873862\n",
       "\n",
       "[20500 rows x 5 columns]"
      ]
     },
     "execution_count": 24,
     "metadata": {},
     "output_type": "execute_result"
    }
   ],
   "source": [
    "# 预测用户未来产生的订单数量\n",
    "\n",
    "t = 180\n",
    "df_rfmt['predicted_purchases'] = bgf.conditional_expected_number_of_purchases_up_to_time(t,\n",
    "                                                                                      df_rfmt['frequency'],\n",
    "                                                                                      df_rfmt['recency'],\n",
    "                                                                                      df_rfmt['T'])\n",
    "df_rfmt"
   ]
  },
  {
   "cell_type": "code",
   "execution_count": 25,
   "id": "132de192",
   "metadata": {},
   "outputs": [
    {
     "data": {
      "image/png": "[encoded data removed]",
      "text/plain": [
       "<Figure size 500x500 with 1 Axes>"
      ]
     },
     "metadata": {},
     "output_type": "display_data"
    }
   ],
   "source": [
    "#图形化预测结果分布\n",
    "ax = sns.displot(df_rfmt['predicted_purchases'])\n",
    "plt.show()"
   ]
  },
  {
   "cell_type": "code",
   "execution_count": 26,
   "id": "535c0129",
   "metadata": {},
   "outputs": [
    {
     "data": {
      "image/png": "[encoded data removed]",
      "text/plain": [
       "<Figure size 640x480 with 1 Axes>"
      ]
     },
     "metadata": {},
     "output_type": "display_data"
    }
   ],
   "source": [
    "plot_period_transactions(bgf)\n",
    "plt.show()"
   ]
  },
  {
   "cell_type": "code",
   "execution_count": 27,
   "id": "af77f629",
   "metadata": {},
   "outputs": [],
   "source": [
    "#观察周期3年，时间越长有利于模型预测的准确性\n",
    "summary_cal_holdout = calibration_and_holdout_data(merged_dataframe, \n",
    "                                                   'user_id', \n",
    "                                                   'create_date',\n",
    "                                                    calibration_period_end='2020-10-01',\n",
    "                                                    observation_period_end='2023-10-01')"
   ]
  },
  {
   "cell_type": "code",
   "execution_count": 28,
   "id": "c4f8afc1",
   "metadata": {},
   "outputs": [
    {
     "data": {
      "text/html": [
       "<div>\n",
       "<style scoped>\n",
       "    .dataframe tbody tr th:only-of-type {\n",
       "        vertical-align: middle;\n",
       "    }\n",
       "\n",
       "    .dataframe tbody tr th {\n",
       "        vertical-align: top;\n",
       "    }\n",
       "\n",
       "    .dataframe thead th {\n",
       "        text-align: right;\n",
       "    }\n",
       "</style>\n",
       "<table border=\"1\" class=\"dataframe\">\n",
       "  <thead>\n",
       "    <tr style=\"text-align: right;\">\n",
       "      <th></th>\n",
       "      <th>frequency_cal</th>\n",
       "      <th>recency_cal</th>\n",
       "      <th>T_cal</th>\n",
       "      <th>frequency_holdout</th>\n",
       "      <th>duration_holdout</th>\n",
       "    </tr>\n",
       "    <tr>\n",
       "      <th>user_id</th>\n",
       "      <th></th>\n",
       "      <th></th>\n",
       "      <th></th>\n",
       "      <th></th>\n",
       "      <th></th>\n",
       "    </tr>\n",
       "  </thead>\n",
       "  <tbody>\n",
       "    <tr>\n",
       "      <th>160849</th>\n",
       "      <td>7.0</td>\n",
       "      <td>576.0</td>\n",
       "      <td>589.0</td>\n",
       "      <td>31.0</td>\n",
       "      <td>1095.0</td>\n",
       "    </tr>\n",
       "    <tr>\n",
       "      <th>35637</th>\n",
       "      <td>7.0</td>\n",
       "      <td>991.0</td>\n",
       "      <td>1233.0</td>\n",
       "      <td>30.0</td>\n",
       "      <td>1095.0</td>\n",
       "    </tr>\n",
       "    <tr>\n",
       "      <th>107508</th>\n",
       "      <td>6.0</td>\n",
       "      <td>994.0</td>\n",
       "      <td>1058.0</td>\n",
       "      <td>28.0</td>\n",
       "      <td>1095.0</td>\n",
       "    </tr>\n",
       "    <tr>\n",
       "      <th>424627</th>\n",
       "      <td>0.0</td>\n",
       "      <td>0.0</td>\n",
       "      <td>279.0</td>\n",
       "      <td>28.0</td>\n",
       "      <td>1095.0</td>\n",
       "    </tr>\n",
       "    <tr>\n",
       "      <th>26854</th>\n",
       "      <td>11.0</td>\n",
       "      <td>1451.0</td>\n",
       "      <td>1478.0</td>\n",
       "      <td>28.0</td>\n",
       "      <td>1095.0</td>\n",
       "    </tr>\n",
       "  </tbody>\n",
       "</table>\n",
       "</div>"
      ],
      "text/plain": [
       "         frequency_cal  recency_cal   T_cal  frequency_holdout  \\\n",
       "user_id                                                          \n",
       "160849             7.0        576.0   589.0               31.0   \n",
       "35637              7.0        991.0  1233.0               30.0   \n",
       "107508             6.0        994.0  1058.0               28.0   \n",
       "424627             0.0          0.0   279.0               28.0   \n",
       "26854             11.0       1451.0  1478.0               28.0   \n",
       "\n",
       "         duration_holdout  \n",
       "user_id                    \n",
       "160849             1095.0  \n",
       "35637              1095.0  \n",
       "107508             1095.0  \n",
       "424627             1095.0  \n",
       "26854              1095.0  "
      ]
     },
     "execution_count": 28,
     "metadata": {},
     "output_type": "execute_result"
    }
   ],
   "source": [
    "summary_cal_holdout.sort_values(by='frequency_holdout', ascending=False).head()"
   ]
  },
  {
   "cell_type": "code",
   "execution_count": 29,
   "id": "70cd29ef",
   "metadata": {},
   "outputs": [
    {
     "data": {
      "text/plain": [
       "<lifetimes.BetaGeoFitter: fitted with 9592 subjects, a: 0.00, alpha: 527.97, b: 0.00, r: 1.57>"
      ]
     },
     "execution_count": 29,
     "metadata": {},
     "output_type": "execute_result"
    }
   ],
   "source": [
    "bgf.fit(summary_cal_holdout['frequency_cal'], \n",
    "        summary_cal_holdout['recency_cal'], \n",
    "        summary_cal_holdout['T_cal'])"
   ]
  },
  {
   "cell_type": "code",
   "execution_count": 30,
   "id": "aaea429e",
   "metadata": {},
   "outputs": [
    {
     "data": {
      "image/png": "[encoded data removed]",
      "text/plain": [
       "<Figure size 640x480 with 1 Axes>"
      ]
     },
     "metadata": {},
     "output_type": "display_data"
    }
   ],
   "source": [
    "plot_calibration_purchases_vs_holdout_purchases(bgf, summary_cal_holdout)\n",
    "plt.show()"
   ]
  },
  {
   "cell_type": "code",
   "execution_count": 31,
   "id": "a6c6820c",
   "metadata": {},
   "outputs": [
    {
     "data": {
      "text/html": [
       "<div>\n",
       "<style scoped>\n",
       "    .dataframe tbody tr th:only-of-type {\n",
       "        vertical-align: middle;\n",
       "    }\n",
       "\n",
       "    .dataframe tbody tr th {\n",
       "        vertical-align: top;\n",
       "    }\n",
       "\n",
       "    .dataframe thead th {\n",
       "        text-align: right;\n",
       "    }\n",
       "</style>\n",
       "<table border=\"1\" class=\"dataframe\">\n",
       "  <thead>\n",
       "    <tr style=\"text-align: right;\">\n",
       "      <th></th>\n",
       "      <th>frequency</th>\n",
       "      <th>recency</th>\n",
       "      <th>T</th>\n",
       "      <th>monetary_value</th>\n",
       "      <th>predicted_purchases</th>\n",
       "    </tr>\n",
       "    <tr>\n",
       "      <th>user_id</th>\n",
       "      <th></th>\n",
       "      <th></th>\n",
       "      <th></th>\n",
       "      <th></th>\n",
       "      <th></th>\n",
       "    </tr>\n",
       "  </thead>\n",
       "  <tbody>\n",
       "    <tr>\n",
       "      <th>102589</th>\n",
       "      <td>37.0</td>\n",
       "      <td>1447.0</td>\n",
       "      <td>2082.0</td>\n",
       "      <td>112212.663784</td>\n",
       "      <td>0.009063</td>\n",
       "    </tr>\n",
       "    <tr>\n",
       "      <th>425461</th>\n",
       "      <td>1.0</td>\n",
       "      <td>1.0</td>\n",
       "      <td>1251.0</td>\n",
       "      <td>60600.000000</td>\n",
       "      <td>0.056266</td>\n",
       "    </tr>\n",
       "    <tr>\n",
       "      <th>338589</th>\n",
       "      <td>1.0</td>\n",
       "      <td>69.0</td>\n",
       "      <td>1276.0</td>\n",
       "      <td>55200.000000</td>\n",
       "      <td>0.071458</td>\n",
       "    </tr>\n",
       "    <tr>\n",
       "      <th>198816</th>\n",
       "      <td>1.0</td>\n",
       "      <td>10.0</td>\n",
       "      <td>1567.0</td>\n",
       "      <td>53600.000000</td>\n",
       "      <td>0.035783</td>\n",
       "    </tr>\n",
       "    <tr>\n",
       "      <th>278118</th>\n",
       "      <td>1.0</td>\n",
       "      <td>1.0</td>\n",
       "      <td>1251.0</td>\n",
       "      <td>50000.000000</td>\n",
       "      <td>0.056266</td>\n",
       "    </tr>\n",
       "  </tbody>\n",
       "</table>\n",
       "</div>"
      ],
      "text/plain": [
       "         frequency  recency       T  monetary_value  predicted_purchases\n",
       "user_id                                                                 \n",
       "102589        37.0   1447.0  2082.0   112212.663784             0.009063\n",
       "425461         1.0      1.0  1251.0    60600.000000             0.056266\n",
       "338589         1.0     69.0  1276.0    55200.000000             0.071458\n",
       "198816         1.0     10.0  1567.0    53600.000000             0.035783\n",
       "278118         1.0      1.0  1251.0    50000.000000             0.056266"
      ]
     },
     "execution_count": 31,
     "metadata": {},
     "output_type": "execute_result"
    }
   ],
   "source": [
    "# Predicting customer lifetime value ，using Gamma-Gamma model\n",
    "#筛选留存的用户\n",
    "returning_customers = df_rfmt[ (df_rfmt['frequency'] > 0) & (df_rfmt['monetary_value'] > 0)]\n",
    "returning_customers.sort_values(by='monetary_value', ascending=False).head()"
   ]
  },
  {
   "cell_type": "code",
   "execution_count": 32,
   "id": "f40e0322",
   "metadata": {},
   "outputs": [
    {
     "data": {
      "text/html": [
       "<div>\n",
       "<style scoped>\n",
       "    .dataframe tbody tr th:only-of-type {\n",
       "        vertical-align: middle;\n",
       "    }\n",
       "\n",
       "    .dataframe tbody tr th {\n",
       "        vertical-align: top;\n",
       "    }\n",
       "\n",
       "    .dataframe thead th {\n",
       "        text-align: right;\n",
       "    }\n",
       "</style>\n",
       "<table border=\"1\" class=\"dataframe\">\n",
       "  <thead>\n",
       "    <tr style=\"text-align: right;\">\n",
       "      <th></th>\n",
       "      <th>monetary_value</th>\n",
       "      <th>frequency</th>\n",
       "    </tr>\n",
       "  </thead>\n",
       "  <tbody>\n",
       "    <tr>\n",
       "      <th>monetary_value</th>\n",
       "      <td>1.000000</td>\n",
       "      <td>-0.002903</td>\n",
       "    </tr>\n",
       "    <tr>\n",
       "      <th>frequency</th>\n",
       "      <td>-0.002903</td>\n",
       "      <td>1.000000</td>\n",
       "    </tr>\n",
       "  </tbody>\n",
       "</table>\n",
       "</div>"
      ],
      "text/plain": [
       "                monetary_value  frequency\n",
       "monetary_value        1.000000  -0.002903\n",
       "frequency            -0.002903   1.000000"
      ]
     },
     "execution_count": 32,
     "metadata": {},
     "output_type": "execute_result"
    }
   ],
   "source": [
    "#检查Monetary和Frequency的相关性\n",
    "\n",
    "returning_customers[['monetary_value', 'frequency']].corr()\n"
   ]
  },
  {
   "cell_type": "code",
   "execution_count": 33,
   "id": "7686fcfa",
   "metadata": {},
   "outputs": [
    {
     "data": {
      "text/plain": [
       "<lifetimes.GammaGammaFitter: fitted with 15940 subjects, p: 2.44, q: 0.63, v: 105.29>"
      ]
     },
     "execution_count": 33,
     "metadata": {},
     "output_type": "execute_result"
    }
   ],
   "source": [
    "# -0.00290 分数说明相关度符合Gamma-Gamma模型（即，用户产生的消费金额和频次是独立的\n",
    "# Fit the Gamma-Gamma Model\n",
    "from lifetimes import GammaGammaFitter\n",
    "\n",
    "ggf = GammaGammaFitter(penalizer_coef = 0)\n",
    "ggf.fit(returning_customers['frequency'],\n",
    "        returning_customers['monetary_value'])"
   ]
  },
  {
   "cell_type": "code",
   "execution_count": 34,
   "id": "6e6013ff",
   "metadata": {},
   "outputs": [],
   "source": [
    "# 使用模型预测订单的平均客单价（金额）\n",
    "predicted_monetary = ggf.conditional_expected_average_profit(\n",
    "        returning_customers['frequency'],\n",
    "        returning_customers['monetary_value']\n",
    ")"
   ]
  },
  {
   "cell_type": "code",
   "execution_count": 35,
   "id": "f6bd0417",
   "metadata": {},
   "outputs": [
    {
     "data": {
      "text/html": [
       "<div>\n",
       "<style scoped>\n",
       "    .dataframe tbody tr th:only-of-type {\n",
       "        vertical-align: middle;\n",
       "    }\n",
       "\n",
       "    .dataframe tbody tr th {\n",
       "        vertical-align: top;\n",
       "    }\n",
       "\n",
       "    .dataframe thead th {\n",
       "        text-align: right;\n",
       "    }\n",
       "</style>\n",
       "<table border=\"1\" class=\"dataframe\">\n",
       "  <thead>\n",
       "    <tr style=\"text-align: right;\">\n",
       "      <th></th>\n",
       "      <th>aov</th>\n",
       "    </tr>\n",
       "    <tr>\n",
       "      <th>user_id</th>\n",
       "      <th></th>\n",
       "    </tr>\n",
       "  </thead>\n",
       "  <tbody>\n",
       "    <tr>\n",
       "      <th>102589</th>\n",
       "      <td>112675.119841</td>\n",
       "    </tr>\n",
       "    <tr>\n",
       "      <th>425461</th>\n",
       "      <td>71495.859235</td>\n",
       "    </tr>\n",
       "    <tr>\n",
       "      <th>338589</th>\n",
       "      <td>65135.990667</td>\n",
       "    </tr>\n",
       "    <tr>\n",
       "      <th>198816</th>\n",
       "      <td>63251.585165</td>\n",
       "    </tr>\n",
       "    <tr>\n",
       "      <th>278118</th>\n",
       "      <td>59011.672786</td>\n",
       "    </tr>\n",
       "  </tbody>\n",
       "</table>\n",
       "</div>"
      ],
      "text/plain": [
       "                   aov\n",
       "user_id               \n",
       "102589   112675.119841\n",
       "425461    71495.859235\n",
       "338589    65135.990667\n",
       "198816    63251.585165\n",
       "278118    59011.672786"
      ]
     },
     "execution_count": 35,
     "metadata": {},
     "output_type": "execute_result"
    }
   ],
   "source": [
    "# 将返回的结果展示出来，并按照从大到小顺序进行展示\n",
    "aov_df = pd.DataFrame(predicted_monetary,columns = ['aov'])\n",
    "aov_df = aov_df.sort_values(by='aov', ascending=False)\n",
    "aov_df.head()"
   ]
  },
  {
   "cell_type": "code",
   "execution_count": 36,
   "id": "f14f047f",
   "metadata": {},
   "outputs": [
    {
     "data": {
      "text/html": [
       "<div>\n",
       "<style scoped>\n",
       "    .dataframe tbody tr th:only-of-type {\n",
       "        vertical-align: middle;\n",
       "    }\n",
       "\n",
       "    .dataframe tbody tr th {\n",
       "        vertical-align: top;\n",
       "    }\n",
       "\n",
       "    .dataframe thead th {\n",
       "        text-align: right;\n",
       "    }\n",
       "</style>\n",
       "<table border=\"1\" class=\"dataframe\">\n",
       "  <thead>\n",
       "    <tr style=\"text-align: right;\">\n",
       "      <th></th>\n",
       "      <th>aov</th>\n",
       "    </tr>\n",
       "    <tr>\n",
       "      <th>user_id</th>\n",
       "      <th></th>\n",
       "    </tr>\n",
       "  </thead>\n",
       "  <tbody>\n",
       "    <tr>\n",
       "      <th>104591</th>\n",
       "      <td>128.103338</td>\n",
       "    </tr>\n",
       "    <tr>\n",
       "      <th>280772</th>\n",
       "      <td>123.793926</td>\n",
       "    </tr>\n",
       "    <tr>\n",
       "      <th>464109</th>\n",
       "      <td>123.793926</td>\n",
       "    </tr>\n",
       "    <tr>\n",
       "      <th>540636</th>\n",
       "      <td>123.793926</td>\n",
       "    </tr>\n",
       "    <tr>\n",
       "      <th>303675</th>\n",
       "      <td>123.793926</td>\n",
       "    </tr>\n",
       "  </tbody>\n",
       "</table>\n",
       "</div>"
      ],
      "text/plain": [
       "                aov\n",
       "user_id            \n",
       "104591   128.103338\n",
       "280772   123.793926\n",
       "464109   123.793926\n",
       "540636   123.793926\n",
       "303675   123.793926"
      ]
     },
     "execution_count": 36,
     "metadata": {},
     "output_type": "execute_result"
    }
   ],
   "source": [
    "# 查看最小的后5个数据\n",
    "aov_df.tail(5)"
   ]
  },
  {
   "cell_type": "code",
   "execution_count": 37,
   "id": "f9e3b5a9",
   "metadata": {},
   "outputs": [
    {
     "data": {
      "image/png": "[encoded data removed]",
      "text/plain": [
       "<Figure size 500x500 with 1 Axes>"
      ]
     },
     "metadata": {},
     "output_type": "display_data"
    }
   ],
   "source": [
    "# 查看分布图\n",
    "ax = sns.displot(aov_df['aov'])\n",
    "plt.show()"
   ]
  },
  {
   "cell_type": "code",
   "execution_count": 38,
   "id": "a1a42a86",
   "metadata": {},
   "outputs": [
    {
     "data": {
      "text/plain": [
       "<lifetimes.BetaGeoFitter: fitted with 15940 subjects, a: 0.17, alpha: 462.17, b: 1.09, r: 1.99>"
      ]
     },
     "execution_count": 38,
     "metadata": {},
     "output_type": "execute_result"
    }
   ],
   "source": [
    "# 预测用户的CLV：\n",
    "# 使用BG/NBD 模型预测未来产生的订单数\n",
    "\n",
    "bgf.fit(returning_customers['frequency'], \n",
    "        returning_customers['recency'], \n",
    "        returning_customers['T'])"
   ]
  },
  {
   "cell_type": "code",
   "execution_count": 39,
   "id": "299bf7c9",
   "metadata": {},
   "outputs": [
    {
     "data": {
      "text/html": [
       "<div>\n",
       "<style scoped>\n",
       "    .dataframe tbody tr th:only-of-type {\n",
       "        vertical-align: middle;\n",
       "    }\n",
       "\n",
       "    .dataframe tbody tr th {\n",
       "        vertical-align: top;\n",
       "    }\n",
       "\n",
       "    .dataframe thead th {\n",
       "        text-align: right;\n",
       "    }\n",
       "</style>\n",
       "<table border=\"1\" class=\"dataframe\">\n",
       "  <thead>\n",
       "    <tr style=\"text-align: right;\">\n",
       "      <th></th>\n",
       "      <th>user_id</th>\n",
       "      <th>clv</th>\n",
       "    </tr>\n",
       "  </thead>\n",
       "  <tbody>\n",
       "    <tr>\n",
       "      <th>5479</th>\n",
       "      <td>125912</td>\n",
       "      <td>62606.520622</td>\n",
       "    </tr>\n",
       "    <tr>\n",
       "      <th>15939</th>\n",
       "      <td>760849</td>\n",
       "      <td>53550.690445</td>\n",
       "    </tr>\n",
       "    <tr>\n",
       "      <th>15938</th>\n",
       "      <td>760815</td>\n",
       "      <td>51180.633775</td>\n",
       "    </tr>\n",
       "    <tr>\n",
       "      <th>14953</th>\n",
       "      <td>585633</td>\n",
       "      <td>50227.787729</td>\n",
       "    </tr>\n",
       "    <tr>\n",
       "      <th>15937</th>\n",
       "      <td>760404</td>\n",
       "      <td>49254.248011</td>\n",
       "    </tr>\n",
       "  </tbody>\n",
       "</table>\n",
       "</div>"
      ],
      "text/plain": [
       "       user_id           clv\n",
       "5479    125912  62606.520622\n",
       "15939   760849  53550.690445\n",
       "15938   760815  51180.633775\n",
       "14953   585633  50227.787729\n",
       "15937   760404  49254.248011"
      ]
     },
     "execution_count": 39,
     "metadata": {},
     "output_type": "execute_result"
    }
   ],
   "source": [
    "#预测用户的CLV\n",
    "#结合Gamma-Gamma模型预测的客单价进行计算CLV,同时现金流的月折现率按照 0.01进行计算\n",
    "\n",
    "preds = ggf.customer_lifetime_value(\n",
    "    bgf,\n",
    "    returning_customers['frequency'],\n",
    "    returning_customers['recency'],\n",
    "    returning_customers['T'],\n",
    "    returning_customers['monetary_value'],\n",
    "    time = 12,\n",
    "    discount_rate = 0.01\n",
    ")\n",
    "\n",
    "preds = preds.to_frame().reset_index()\n",
    "\n",
    "preds.sort_values(by='clv', ascending=False).head() "
   ]
  },
  {
   "cell_type": "code",
   "execution_count": 40,
   "id": "72e50fec",
   "metadata": {},
   "outputs": [
    {
     "data": {
      "text/html": [
       "<div>\n",
       "<style scoped>\n",
       "    .dataframe tbody tr th:only-of-type {\n",
       "        vertical-align: middle;\n",
       "    }\n",
       "\n",
       "    .dataframe tbody tr th {\n",
       "        vertical-align: top;\n",
       "    }\n",
       "\n",
       "    .dataframe thead th {\n",
       "        text-align: right;\n",
       "    }\n",
       "</style>\n",
       "<table border=\"1\" class=\"dataframe\">\n",
       "  <thead>\n",
       "    <tr style=\"text-align: right;\">\n",
       "      <th></th>\n",
       "      <th>user_id</th>\n",
       "      <th>clv</th>\n",
       "    </tr>\n",
       "  </thead>\n",
       "  <tbody>\n",
       "    <tr>\n",
       "      <th>5450</th>\n",
       "      <td>125018</td>\n",
       "      <td>3.467688</td>\n",
       "    </tr>\n",
       "    <tr>\n",
       "      <th>4059</th>\n",
       "      <td>86404</td>\n",
       "      <td>3.347327</td>\n",
       "    </tr>\n",
       "    <tr>\n",
       "      <th>6588</th>\n",
       "      <td>157823</td>\n",
       "      <td>3.086482</td>\n",
       "    </tr>\n",
       "    <tr>\n",
       "      <th>7300</th>\n",
       "      <td>187028</td>\n",
       "      <td>2.308636</td>\n",
       "    </tr>\n",
       "    <tr>\n",
       "      <th>3131</th>\n",
       "      <td>57151</td>\n",
       "      <td>1.842816</td>\n",
       "    </tr>\n",
       "  </tbody>\n",
       "</table>\n",
       "</div>"
      ],
      "text/plain": [
       "      user_id       clv\n",
       "5450   125018  3.467688\n",
       "4059    86404  3.347327\n",
       "6588   157823  3.086482\n",
       "7300   187028  2.308636\n",
       "3131    57151  1.842816"
      ]
     },
     "execution_count": 40,
     "metadata": {},
     "output_type": "execute_result"
    }
   ],
   "source": [
    "# 检查一下尾部的值\n",
    "preds.sort_values(by='clv', ascending=False).tail()"
   ]
  },
  {
   "cell_type": "code",
   "execution_count": 41,
   "id": "29c2a3a9",
   "metadata": {},
   "outputs": [
    {
     "data": {
      "text/plain": [
       "45754670.57108539"
      ]
     },
     "execution_count": 41,
     "metadata": {},
     "output_type": "execute_result"
    }
   ],
   "source": [
    "#计算用户产生的总金额\n",
    "preds['clv'].sum()"
   ]
  },
  {
   "cell_type": "code",
   "execution_count": null,
   "id": "8f1bc0f3",
   "metadata": {},
   "outputs": [],
   "source": []
  }
 ],
 "metadata": {
  "kernelspec": {
   "display_name": "Python 3 (ipykernel)",
   "language": "python",
   "name": "python3"
  },
  "language_info": {
   "codemirror_mode": {
    "name": "ipython",
    "version": 3
   },
   "file_extension": ".py",
   "mimetype": "text/x-python",
   "name": "python",
   "nbconvert_exporter": "python",
   "pygments_lexer": "ipython3",
   "version": "3.9.13"
  }
 },
 "nbformat": 4,
 "nbformat_minor": 5
}
